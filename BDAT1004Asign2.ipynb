{
 "cells": [
  {
   "cell_type": "markdown",
   "metadata": {},
   "source": [
    "## Question 1"
   ]
  },
  {
   "cell_type": "raw",
   "metadata": {},
   "source": [
    "a = 0 \n",
    "\n",
    "def b():\n",
    "    global a\n",
    "    a = c(a)\n",
    "    \n",
    "def c(a):\n",
    "    return a + 2\n",
    "    \n",
    "    \n",
    ">>> b() ## a = 0 -> a = 2\n",
    ">>> b() ## a = 0 -> a = 4\n",
    ">>> b() ## a = 0 -> a = 6\n",
    ">>> a ## a = 6"
   ]
  },
  {
   "cell_type": "markdown",
   "metadata": {},
   "source": [
    "## Question 2"
   ]
  },
  {
   "cell_type": "code",
   "execution_count": 2,
   "metadata": {},
   "outputs": [],
   "source": [
    "def filelength(name):   \n",
    "    try:\n",
    "        nol = len(open(name).readlines())\n",
    "        return nol  \n",
    "    except:\n",
    "        print(\"file {} not found\" .format(name))"
   ]
  },
  {
   "cell_type": "code",
   "execution_count": 5,
   "metadata": {},
   "outputs": [],
   "source": [
    "name = r'C:\\Users\\eriks\\Documents\\BDAT2020\\Fall\\Data Programming\\Txtfiles\\currencies(1).txt'"
   ]
  },
  {
   "cell_type": "code",
   "execution_count": 6,
   "metadata": {},
   "outputs": [
    {
     "data": {
      "text/plain": [
       "17"
      ]
     },
     "execution_count": 6,
     "metadata": {},
     "output_type": "execute_result"
    }
   ],
   "source": [
    "filelength(name)"
   ]
  },
  {
   "cell_type": "code",
   "execution_count": 3,
   "metadata": {},
   "outputs": [
    {
     "name": "stdout",
     "output_type": "stream",
     "text": [
      "file test.txt not found\n"
     ]
    }
   ],
   "source": [
    "filelength(r\"test.txt\")"
   ]
  },
  {
   "cell_type": "markdown",
   "metadata": {},
   "source": [
    "## Question 3"
   ]
  },
  {
   "cell_type": "code",
   "execution_count": 7,
   "metadata": {},
   "outputs": [],
   "source": [
    "class Marsupial:\n",
    "    global n\n",
    "    n = []\n",
    "    \n",
    "    def put_in_pouch(self, s):\n",
    "        self.s = s\n",
    "        global n\n",
    "        n.append(s)\n",
    "        \n",
    "    def pouch_contents(self):\n",
    "        return n"
   ]
  },
  {
   "cell_type": "code",
   "execution_count": 8,
   "metadata": {},
   "outputs": [],
   "source": [
    "m = Marsupial()"
   ]
  },
  {
   "cell_type": "code",
   "execution_count": 9,
   "metadata": {},
   "outputs": [],
   "source": [
    "m.put_in_pouch('doll')\n",
    "m.put_in_pouch('firetruck')\n",
    "m.put_in_pouch('kitten')"
   ]
  },
  {
   "cell_type": "code",
   "execution_count": 10,
   "metadata": {},
   "outputs": [
    {
     "data": {
      "text/plain": [
       "['doll', 'firetruck', 'kitten']"
      ]
     },
     "execution_count": 10,
     "metadata": {},
     "output_type": "execute_result"
    }
   ],
   "source": [
    "m.pouch_contents()"
   ]
  },
  {
   "cell_type": "code",
   "execution_count": 24,
   "metadata": {},
   "outputs": [],
   "source": [
    "class Kangaroo(Marsupial):\n",
    "    global n\n",
    "    n= []\n",
    "    \n",
    "    def __init__(self, xcoord=0, ycoord=0):\n",
    "        global x\n",
    "        global y\n",
    "        \n",
    "        self.x = xcoord\n",
    "        self.y = ycoord\n",
    "        \n",
    "    def __str__(self):\n",
    "        return 'I am a Kangaroo located at coordinates ({},{})'.format(self.x, self.y)\n",
    "        \n",
    "    def jump(self, dx, dy):\n",
    "        self.x += dx\n",
    "        self.y += dy"
   ]
  },
  {
   "cell_type": "code",
   "execution_count": 25,
   "metadata": {},
   "outputs": [],
   "source": [
    "k = Kangaroo(0,0)"
   ]
  },
  {
   "cell_type": "code",
   "execution_count": 26,
   "metadata": {},
   "outputs": [
    {
     "name": "stdout",
     "output_type": "stream",
     "text": [
      "I am a Kangaroo located at coordinates (0,0)\n"
     ]
    }
   ],
   "source": [
    "print(k)"
   ]
  },
  {
   "cell_type": "code",
   "execution_count": 27,
   "metadata": {},
   "outputs": [
    {
     "data": {
      "text/plain": [
       "['doll', 'firetruck', 'kitten']"
      ]
     },
     "execution_count": 27,
     "metadata": {},
     "output_type": "execute_result"
    }
   ],
   "source": [
    "k.put_in_pouch('doll')\n",
    "k.put_in_pouch('firetruck')\n",
    "k.put_in_pouch('kitten')\n",
    "k.pouch_contents()"
   ]
  },
  {
   "cell_type": "code",
   "execution_count": 28,
   "metadata": {},
   "outputs": [
    {
     "name": "stdout",
     "output_type": "stream",
     "text": [
      "I am a Kangaroo located at coordinates (3,0)\n"
     ]
    }
   ],
   "source": [
    "k.jump(1,0)\n",
    "k.jump(1,0)\n",
    "k.jump(1,0)\n",
    "print(k)"
   ]
  },
  {
   "cell_type": "markdown",
   "metadata": {},
   "source": [
    "## Question 4"
   ]
  },
  {
   "cell_type": "code",
   "execution_count": 214,
   "metadata": {},
   "outputs": [],
   "source": [
    "import tkinter as tk\n",
    "import math\n",
    "\n",
    "class App(tk.Tk):\n",
    "    def __init__(self, *args, **kwargs):\n",
    "        tk.Tk.__init__(self)\n",
    "        self.win1 = calc(self)\n",
    "        self.win1.pack(side=\"right\", expand=1, fill=tk.BOTH)\n",
    "        self.win2 = mort(self)\n",
    "        self.win2.pack(side=\"right\", expand=1, fill=tk.BOTH)        \n",
    "        \n",
    "class calc(tk.Frame):\n",
    "    global expression \n",
    "    expression = \"\"\n",
    "    def __init__(self, *args, **kwargs):\n",
    "        tk.Frame.__init__(self, *args, **kwargs)\n",
    "        equation = StringVar()\n",
    "        input_field = Entry(self, relief =SUNKEN, selectbackground='grey', textvariable=equation)\n",
    "        input_field.place(height=100)\n",
    "        input_field.grid(columnspan=4, ipadx=100, ipady=5)\n",
    "        equation.set(\"Enter the expression\")\n",
    "        _MC = tk.Button(self, text='MC', relief=RAISED, bd=0, height=2, width=7)\n",
    "        _MC.grid(row=2, column=0)\n",
    "        _M = tk.Button(self, text='M+', relief=RAISED, bd=0, height=2, width=7)\n",
    "        _M.grid(row=2, column=1)\n",
    "        _m = tk.Button(self, text='M-', relief=RAISED, bd=0, height=2, width=7)\n",
    "        _m.grid(row=2, column=2)\n",
    "        _MR = tk.Button(self, text='MR', relief=RAISED, bd=0, height=2, width=7)\n",
    "        _MR.grid(row=2, column=3)\n",
    "        clear = tk.Button(self, text='C', relief=RAISED, bd=0, command=lambda: self.clear_input_field(equation), height=2, width=7)\n",
    "        clear.grid(row=3, column=0)\n",
    "        _sqr = tk.Button(self, text='√', relief=RAISED, bd=0, command=lambda: self.input_number('√', equation), height=2, width=7)\n",
    "        _sqr.grid(row=3, column=1)\n",
    "        _sq = tk.Button(self, text='x²', relief=RAISED, bd=0, command=lambda: self.input_number('**2', equation), height=2, width=7)\n",
    "        _sq.grid(row=3, column=2)\n",
    "        plus = tk.Button(self, text='+', relief=RAISED, bd=0, command=lambda: self.input_number('+', equation), height=2, width=7)\n",
    "        plus.grid(row=3, column=3)\n",
    "        _7 = tk.Button(self, text='7', relief=RAISED, bd=0, command=lambda: self.input_number(7, equation), height=2, width=7)\n",
    "        _7.grid(row=4, column=0)\n",
    "        _8 = tk.Button(self, text='8', relief=RAISED, bd=0, command=lambda: self.input_number(8, equation), height=2, width=7)\n",
    "        _8.grid(row=4, column=1)\n",
    "        _9 = tk.Button(self, text='9', relief=RAISED, bd=0, command=lambda: self.input_number(9, equation), height=2, width=7)\n",
    "        _9.grid(row=4, column=2)\n",
    "        minus = tk.Button(self, text='-', relief=RAISED, bd=0, command=lambda: self.input_number('-', equation), height=2, width=7)\n",
    "        minus.grid(row=4, column=3)\n",
    "        _4 = tk.Button(self, text='4', relief=RAISED, bd=0, command=lambda: self.input_number(4, equation), height=2, width=7)\n",
    "        _4.grid(row=5, column=0)\n",
    "        _5 = tk.Button(self, text='5', relief=RAISED, bd=0, command=lambda: self.input_number(5, equation), height=2, width=7)\n",
    "        _5.grid(row=5, column=1)\n",
    "        _6 = tk.Button(self, text='6', relief=RAISED, bd=0, command=lambda: self.input_number(6, equation), height=2, width=7)\n",
    "        _6.grid(row=5, column=2)\n",
    "        multiply = tk.Button(self, text='*', relief=RAISED, bd=0, command=lambda:  self.input_number('*', equation), height=2, width=7)\n",
    "        multiply.grid(row=5, column=3)\n",
    "        _1 = tk.Button(self, text='1', relief=RAISED, bd=0, command=lambda: self.input_number(1, equation), height=2, width=7)\n",
    "        _1.grid(row=6, column=0)\n",
    "        _2 = tk.Button(self, text='2', relief=RAISED, bd=0, command=lambda: self.input_number(2, equation), height=2, width=7)\n",
    "        _2.grid(row=6, column=1)\n",
    "        _3 = tk.Button(self, text='3', relief=RAISED, bd=0, command=lambda: self.input_number(3, equation), height=2, width=7)\n",
    "        _3.grid(row=6, column=2)\n",
    "        divide = tk.Button(self, text='/', relief=RAISED, bd=0, command=lambda: self.input_number('/', equation), height=2, width=7)\n",
    "        divide.grid(row=6, column=3)\n",
    "        _0 = tk.Button(self, text='0', relief=RAISED, bd=0, command=lambda: self.input_number(0, equation), height=2, width=7)\n",
    "        _0.grid(row=7, column=0)\n",
    "        point = tk.Button(self, text='.', relief=RAISED, bd=0, command=lambda: self.input_number('.', equation), height=2, width=7)\n",
    "        point.grid(row=7, column=1)\n",
    "        posmin = tk.Button(self, text='+-', relief=RAISED, bd=0, height=2, width=7)\n",
    "        posmin.grid(row=7, column=2)\n",
    "        equal = tk.Button(self, text='=', relief=RAISED, bd=0, command=lambda: self.evaluate(equation), height=2, width=7)\n",
    "        equal.grid(row=7, column=3)\n",
    "        \n",
    "    def input_number(self, number, equation):\n",
    "        global expression\n",
    "        if '√' == number:\n",
    "            expression = expression.rjust(1,'√')\n",
    "            expression = '√' + expression\n",
    "        else:\n",
    "            expression = expression + str(number)\n",
    "        equation.set(expression)\n",
    "    def clear_input_field(self, equation):\n",
    "        global expression\n",
    "        expression = \"\"\n",
    "        equation.set(\"Enter the expression\")\n",
    "    def evaluate(self, equation):\n",
    "        global expression\n",
    "        try:\n",
    "            if '√' not in expression:\n",
    "                result = str(eval(expression))\n",
    "                equation.set(result)\n",
    "                expression = \"\"\n",
    "            else:\n",
    "                result = math.sqrt(float(expression[1:]))\n",
    "                equation.set(str(result))\n",
    "                expression = \"\"\n",
    "        except:\n",
    "            self.messagebox.showerror(\"Calculator\", \"Computational Error\")\n",
    "            expression = \"\"\n",
    "        \n",
    "        \n",
    "        \n",
    "class mort(tk.Frame):\n",
    "    def __init__(self, *args, **kwargs):\n",
    "        tk.Frame.__init__(self, *args, **kwargs)\n",
    "        lo = StringVar()\n",
    "        inte = StringVar()\n",
    "        te = StringVar()\n",
    "        \n",
    "        blank = tk.Label(self, text = '      ')\n",
    "        blank.grid(columnspan=2, ipadx=100, ipady=5)\n",
    "        blank1 = tk.Label(self, text = '      ')\n",
    "        blank1.grid(columnspan=2, ipadx=100, ipady=5)\n",
    "        loan = tk.Label(self, text = 'Loan Amount:', bd=4)\n",
    "        loan.grid(row=2, column=0)\n",
    "        input1 = tk.Entry(self, relief=SUNKEN, bd=4, textvariable = lo)\n",
    "        input1.grid(row=2, column = 1)\n",
    "        interest = tk.Label(self, text = 'Interest rate:', bd=4)\n",
    "        interest.grid(row=3, column=0)\n",
    "        input2 = tk.Entry(self, relief=SUNKEN, bd=4, textvariable = inte)\n",
    "        input2.grid(row=3, column = 1)\n",
    "        terms = tk.Label(self, text = 'Loan terms:', bd=4)\n",
    "        terms.grid(row=4, column=0)\n",
    "        input3 = tk.Entry(self, relief=SUNKEN, bd=4, textvariable = te)\n",
    "        input3.grid(row=4, column = 1)\n",
    "        compute = tk.Button(self, text = 'Compute Mortgage', bd=4, relief=RAISED, command=lambda: self.mm(lo, inte, te, result))\n",
    "        compute.grid(row=5, column=0)\n",
    "        result = StringVar()\n",
    "        input4 = tk.Entry(self, relief=SUNKEN, bd=4, textvariable = result)\n",
    "        input4.grid(row=5, column=1)\n",
    "        result.set(\"Total Mortgage Amount\")\n",
    "        \n",
    "        \n",
    "        \n",
    "    def mm(self, l, i, t, result):\n",
    "        lon = float(l.get())\n",
    "        i1 = float(i.get())\n",
    "        t1 = float(t.get())\n",
    "        total = (i1*lon*t1)/(1-(1+i1)**(-t1))\n",
    "        result.set(total)\n",
    "        return"
   ]
  },
  {
   "cell_type": "code",
   "execution_count": 215,
   "metadata": {},
   "outputs": [],
   "source": [
    "if __name__ == \"__main__\":\n",
    "    main = App()\n",
    "    main.mainloop()"
   ]
  },
  {
   "cell_type": "markdown",
   "metadata": {},
   "source": [
    "## Question 5"
   ]
  },
  {
   "cell_type": "code",
   "execution_count": 10,
   "metadata": {},
   "outputs": [],
   "source": [
    "def collatz(x):\n",
    "    \n",
    "    print(int(x))\n",
    "    \n",
    "    if x > 1:\n",
    "        if x%2 == 0:\n",
    "            x = x/2\n",
    "        else:\n",
    "            x = 3*x +1\n",
    "    else:\n",
    "        return\n",
    "    return collatz(x)\n",
    "    "
   ]
  },
  {
   "cell_type": "code",
   "execution_count": 11,
   "metadata": {},
   "outputs": [
    {
     "name": "stdout",
     "output_type": "stream",
     "text": [
      "10\n",
      "5\n",
      "16\n",
      "8\n",
      "4\n",
      "2\n",
      "1\n"
     ]
    }
   ],
   "source": [
    "collatz(10)"
   ]
  },
  {
   "cell_type": "markdown",
   "metadata": {},
   "source": [
    "## Question 6"
   ]
  },
  {
   "cell_type": "code",
   "execution_count": 13,
   "metadata": {},
   "outputs": [],
   "source": [
    "def binary(n, f=''):\n",
    "    \n",
    "    f = str(n%2) + f\n",
    "    \n",
    "    if n == n%2:\n",
    "        print(f)\n",
    "        \n",
    "    else: \n",
    "        binary(  int((n-n%2)/2)  , f = f)\n",
    "    \n",
    "    return  \n",
    "    "
   ]
  },
  {
   "cell_type": "code",
   "execution_count": 14,
   "metadata": {},
   "outputs": [
    {
     "name": "stdout",
     "output_type": "stream",
     "text": [
      "1001\n"
     ]
    }
   ],
   "source": [
    "binary(9)"
   ]
  },
  {
   "cell_type": "markdown",
   "metadata": {},
   "source": [
    "## Question 7"
   ]
  },
  {
   "cell_type": "code",
   "execution_count": 184,
   "metadata": {},
   "outputs": [],
   "source": [
    "from html.parser import HTMLParser\n",
    "class headingparser(HTMLParser):\n",
    "    global t\n",
    "    \n",
    "    def __init__(self):\n",
    "        HTMLParser.__init__(self)\n",
    "        self.indent = 0\n",
    "        t = ''\n",
    "        \n",
    "    def handle_data(self, data):\n",
    "        t = self.get_starttag_text()\n",
    "        if not t is None:\n",
    "            for i in range(0,5):\n",
    "                if '<H'+str(i) in t or '<h'+str(i) in t:\n",
    "                    if '\\n' not in data:\n",
    "                        print(\"{}{}\".format(\"  \"*i, data))"
   ]
  },
  {
   "cell_type": "code",
   "execution_count": 200,
   "metadata": {
    "scrolled": false
   },
   "outputs": [
    {
     "name": "stdout",
     "output_type": "stream",
     "text": [
      "  This is a Header\n",
      "    This is a Medium Header\n"
     ]
    }
   ],
   "source": [
    "infile = open(r'C:\\Users\\eriks\\Documents\\BDAT2020\\Fall\\Data Programming\\Txtfiles\\Test.txt')\n",
    "content = infile.read()\n",
    "infile.close()\n",
    "parse = headingparser()\n",
    "parse.feed(content)"
   ]
  },
  {
   "cell_type": "markdown",
   "metadata": {},
   "source": [
    "## Question 8"
   ]
  },
  {
   "cell_type": "code",
   "execution_count": 38,
   "metadata": {},
   "outputs": [],
   "source": [
    "def webdir(url, depth, indent):\n",
    "    from bs4 import BeautifulSoup as bs\n",
    "    from urllib.request import urlopen\n",
    "    import re\n",
    "    \n",
    "    opage = urlopen(url)\n",
    "    page = bs(opage)\n",
    "    \n",
    "    \n",
    "    for link in page.findAll('a', attrs={'href': re.compile(\"^http://\")}):\n",
    "        try:\n",
    "            print(\"\\t\"*indent + link.get('href'))\n",
    "            if depth > 1:\n",
    "                webdir(link.get('href'),depth-1,indent+1)\n",
    "                \n",
    "        except:\n",
    "            print(\"Link \\\"\" + link.get('href') + \"\\\" could not be reached.\")"
   ]
  },
  {
   "cell_type": "code",
   "execution_count": 14,
   "metadata": {},
   "outputs": [],
   "source": [
    "from bs4 import BeautifulSoup as bs"
   ]
  },
  {
   "cell_type": "code",
   "execution_count": 39,
   "metadata": {},
   "outputs": [
    {
     "name": "stdout",
     "output_type": "stream",
     "text": [
      "http://www.crummy.com/\n",
      "\thttp://www.jdoqocy.com/click-7202034-11290546?url=http%3A%2F%2Fshop.oreilly.com%2Fproduct%2F0636920028468.do%3Fcmp%3Daf-code-books-video-product_cj_0636920028468_%25zp&cjsku=0636920028468\n",
      "\thttp://www.amazon.com/Thoughtcrime-Experiments-Leonard-Richardson/dp/1442157909\n",
      "\thttp://www.candlemarkandgleam.com/shop/constellation-games/\n",
      "\thttp://www.crummy.com/2020/10/03/0\n",
      "\thttp://www.crummy.com/2020/10/03/0#comments\n",
      "\thttp://www.crummy.com/2020/09/05/0\n",
      "\thttp://www.crummy.com/2020/08/25/0\n",
      "\thttp://www.crummy.com/2020/08/25/0#comments\n",
      "\thttp://www.crummy.com/2020/08/21/0\n",
      "\thttp://www.crummy.com/2020/08/21/0#comments\n",
      "\thttp://www.crummy.com/2020/08/14/0\n",
      "\thttp://www.crummy.com/2020/07/27/0\n",
      "\thttp://www.crummy.com/2020/07/27/0#comments\n",
      "\thttp://thoughtcrime.crummy.com/2009/BioBreak.html\n",
      "\thttp://strangehorizons.com/fiction/four-kinds-of-cargo/\n",
      "\thttp://www.crummy.com/2020/07/05/0\n",
      "\thttp://www.crummy.com/2020/05/31/0\n",
      "\thttp://www.crummy.com/2020/05/03/0\n",
      "\thttp://www.crummy.com/2020/04/19/0\n",
      "\thttp://www.crummy.com/2020/04/19/0#comments\n",
      "\thttp://www.crummy.com/2020/04/04/0\n",
      "\thttp://www.crummy.com/2020/03/09/0\n",
      "\thttp://www.crummy.com/2020/03/04/0\n",
      "\thttp://www.crummy.com/2020/02/01/0\n",
      "\thttp://www.crummy.com/2020/01/11/1\n",
      "\thttp://rodgersbookbarn.com/\n",
      "\thttp://www.crummy.com/2020/01/11/0\n",
      "\thttp://www.crummy.com/2020/01/10/0\n",
      "\thttp://www.crummy.com/2019/01/13/0\n",
      "\thttp://www.crummy.com/2019/08/09/0\n",
      "\thttp://www.crummy.com/2020/01/01/0\n",
      "\thttp://www.crummy.com/2019/12/30/0\n",
      "\thttp://www.crummy.com/2019/12/23/0\n",
      "\thttp://www.crummy.com/2019/12/20/0\n",
      "\thttp://www.crummy.com/2019/12/18/0\n",
      "\thttp://www.crummy.com/2019/12/18/0#comments\n",
      "\thttp://www.crummy.com/2019/12/08/0\n",
      "\thttp://www.movingimage.us/visit/calendar/2019/11/24/detail/sesame-street-lost-and-found\n",
      "\thttp://www.crummy.com/2019/11/18/0\n",
      "\thttp://www.crummy.com/2019/11/02/0\n",
      "\thttp://www.crummy.com/2019/11/02/0#comments\n",
      "\thttp://creativecommons.org/licenses/by-sa/2.0/\n",
      "\thttp://creativecommons.org/licenses/by-sa/2.0/\n",
      "\thttp://www.crummy.com/\n",
      "http://wiki.python.su/%D0%94%D0%BE%D0%BA%D1%83%D0%BC%D0%B5%D0%BD%D1%82%D0%B0%D1%86%D0%B8%D0%B8/BeautifulSoup\n",
      "\thttp://www.crummy.com/software/BeautifulSoup/\n",
      "\thttp://www.crummy.com/software/BeautifulSoup/#Download\n",
      "\thttp://www.crummy.com/software/BeautifulSoup/CHANGELOG.html\n",
      "\thttp://www.icc-ccs.org/\n",
      "\thttp://www.feedparser.org/\n",
      "\thttp://cjkpython.i18n.org/\n",
      "\thttp://chardet.feedparser.org/\n",
      "\thttp://chardet.feedparser.org/\n",
      "\thttp://dalchemy.com/opensource/unicodedoc/\n",
      "\thttp://dalchemy.com/opensource/unicodedoc/\n",
      "\thttp://groups.google.com/group/beautifulsoup/browse_thread/thread/69093cb0d3a3cf63\n",
      "\thttp://www.crummy.com/software/ScrapeNFeed/\n",
      "\thttp://www.meangrape.com/htmlatex/\n",
      "\thttp://code.google.com/p/chmtopdf/\n",
      "\thttp://www.suttree.com/code/fotopic/\n",
      "\thttp://inigo.katxi.org/devel/misc/googlenews.py\n",
      "\thttp://potheads.ca/~cgm/weatheroffice/\n",
      "\thttp://www.cs.duke.edu/~pbh/newsclues.html\n",
      "\thttp://blinkflash.sourceforge.net/\n",
      "\thttp://www.voidspace.org.uk/python/programs.shtml#linky\n",
      "\thttp://www.postneo.com/2005/03/28/mobile-screen-scraping-with-beautifulsoup-and-python-for-series-60\n",
      "\thttp://sandeep.weblogs.us/archives/024473.html\n",
      "\thttp://jacobian.org/recipes/archives/2005/03/21/fixing-tracks-bought-from-allofmp3com/\n",
      "\thttp://www.pycs.net/\n",
      "\thttp://www.crummy.com/software/RubyfulSoup/\n",
      "\thttp://code.whytheluckystiff.net/hpricot/\n",
      "\thttp://effbot.org/zone/element-index.htm\n",
      "\thttp://home.ccil.org/~cowan/XML/tagsoup/\n",
      "\thttp://www.neilvandyke.org/htmlprag/\n",
      "\thttp://www.aaronsw.com/2002/xmltramp/\n",
      "\thttp://wwwsearch.sourceforge.net/pullparser/\n",
      "\thttp://aspn.activestate.com/ASPN/Cookbook/Python/Recipe/286269\n",
      "\thttp://zesty.ca/python/scrape.py\n",
      "\thttp://moinmo.in/\n",
      "\thttp://moinmo.in/Python\n",
      "\thttp://moinmo.in/GPL\n",
      "\thttp://validator.w3.org/check?uri=referer\n",
      "http://www.crummy.com/software/BeautifulSoup/bs4/\n",
      "\thttp://lxml.de/\n",
      "\thttp://code.google.com/p/html5lib/\n",
      "\thttp://www.crummy.com/software/BeautifulSoup/bs3/documentation.html\n",
      "\thttp://www.nytimes.com/2007/10/25/arts/design/25vide.html\n",
      "\thttp://www.harrowell.org.uk/viktormap.html\n",
      "\thttp://svn.python.org/view/tracker/importer/\n",
      "\thttp://www2.ljworld.com/\n",
      "\thttp://www.b-list.org/weblog/2010/nov/02/news-done-broke/\n",
      "\thttp://esrl.noaa.gov/gsd/fab/\n",
      "\thttp://laps.noaa.gov/topograbber/\n",
      "\thttp://groups.google.com/group/beautifulsoup/\n",
      "\thttp://creativecommons.org/licenses/by-sa/2.0/\n",
      "\thttp://creativecommons.org/licenses/by-sa/2.0/\n",
      "\thttp://www.crummy.com/\n",
      "\thttp://www.crummy.com/software/\n",
      "\thttp://www.crummy.com/software/BeautifulSoup/\n",
      "http://www.crummy.com/software/BeautifulSoup/bs4/doc/\n",
      "\thttp://www.crummy.com/software/BeautifulSoup/\n",
      "\thttp://www.crummy.com/software/BeautifulSoup/bs3/documentation.html\n",
      "\thttp://kondou.com/BS4/\n",
      "\thttp://www.crummy.com/software/BeautifulSoup/bs3/documentation.html\n",
      "\thttp://www.crummy.com/software/BeautifulSoup/download/4.x/\n",
      "\thttp://lxml.de/\n",
      "\thttp://code.google.com/p/html5lib/\n",
      "\thttp://www.w3.org/TR/html5/syntax.html#syntax\n",
      "\thttp://wiki.python.org/moin/PrintFails\n",
      "\thttp://lxml.de/\n",
      "\thttp://pypi.python.org/pypi/cchardet/\n",
      "\thttp://www.crummy.com/software/BeautifulSoup/bs3/download/3.x/BeautifulSoup-3.2.0.tar.gz\n",
      "\thttp://www.crummy.com/software/BeautifulSoup/bs3/documentation.html\n",
      "\thttp://www.python.org/dev/peps/pep-0008/\n",
      "http://www.crummy.com/software/BeautifulSoup/bs4/doc/\n",
      "\thttp://www.crummy.com/software/BeautifulSoup/\n",
      "\thttp://www.crummy.com/software/BeautifulSoup/bs3/documentation.html\n",
      "\thttp://kondou.com/BS4/\n",
      "\thttp://www.crummy.com/software/BeautifulSoup/bs3/documentation.html\n",
      "\thttp://www.crummy.com/software/BeautifulSoup/download/4.x/\n",
      "\thttp://lxml.de/\n",
      "\thttp://code.google.com/p/html5lib/\n",
      "\thttp://www.w3.org/TR/html5/syntax.html#syntax\n",
      "\thttp://wiki.python.org/moin/PrintFails\n",
      "\thttp://lxml.de/\n",
      "\thttp://pypi.python.org/pypi/cchardet/\n",
      "\thttp://www.crummy.com/software/BeautifulSoup/bs3/download/3.x/BeautifulSoup-3.2.0.tar.gz\n",
      "\thttp://www.crummy.com/software/BeautifulSoup/bs3/documentation.html\n",
      "\thttp://www.python.org/dev/peps/pep-0008/\n",
      "http://www.crummy.com/software/BeautifulSoup/bs4/doc/\n",
      "\thttp://www.crummy.com/software/BeautifulSoup/\n",
      "\thttp://www.crummy.com/software/BeautifulSoup/bs3/documentation.html\n",
      "\thttp://kondou.com/BS4/\n",
      "\thttp://www.crummy.com/software/BeautifulSoup/bs3/documentation.html\n",
      "\thttp://www.crummy.com/software/BeautifulSoup/download/4.x/\n",
      "\thttp://lxml.de/\n",
      "\thttp://code.google.com/p/html5lib/\n",
      "\thttp://www.w3.org/TR/html5/syntax.html#syntax\n",
      "\thttp://wiki.python.org/moin/PrintFails\n",
      "\thttp://lxml.de/\n",
      "\thttp://pypi.python.org/pypi/cchardet/\n",
      "\thttp://www.crummy.com/software/BeautifulSoup/bs3/download/3.x/BeautifulSoup-3.2.0.tar.gz\n",
      "\thttp://www.crummy.com/software/BeautifulSoup/bs3/documentation.html\n",
      "\thttp://www.python.org/dev/peps/pep-0008/\n",
      "http://kondou.com/BS4/\n",
      "\thttp://www.crummy.com/software/BeautifulSoup/\n",
      "\thttp://www.crummy.com/software/BeautifulSoup/bs4/doc/\n",
      "\thttp://www.crummy.com/software/BeautifulSoup/bs3/documentation.html\n",
      "\thttp://coreapython.hosting.paran.com/etc/beautifulsoup4.html\n",
      "\thttp://www.crummy.com/software/BeautifulSoup/download/4.x/\n",
      "\thttp://lxml.de/\n",
      "\thttp://code.google.com/p/html5lib/\n",
      "\thttp://ja.wikipedia.org/wiki/Factory_Method_%E3%83%91%E3%82%BF%E3%83%BC%E3%83%B3\n",
      "\thttp://www.nikkeibp.co.jp/article/nba/20100517/226165/\n",
      "\thttp://www.w3.org/TR/html5/syntax.html#syntax\n",
      "\thttp://wiki.python.org/moin/PrintFails\n",
      "\thttp://lxml.de/\n",
      "\thttp://pypi.python.org/pypi/cchardet/\n",
      "\thttp://www.crummy.com/software/BeautifulSoup/bs3/download/3.x/BeautifulSoup-3.2.0.tar.gz\n",
      "\thttp://www.crummy.com/software/BeautifulSoup/bs3/documentation.html\n",
      "\thttp://tdoc.info/beautifulsoup/\n",
      "\thttp://www.python.org/dev/peps/pep-0008/\n",
      "\thttp://sphinx-doc.org/\n",
      "http://tdoc.info/beautifulsoup/\n",
      "\thttp://www.crummy.com/software/BeautifulSoup/\n",
      "\thttp://www.crummy.com/software/RubyfulSoup/\n",
      "\thttp://www.crummy.com/software/BeautifulSoup/#Download/\n",
      "\thttp://www.crummy.com/software/BeautifulSoup/CHANGELOG.html\n",
      "\thttp://www.icc-ccs.org/prc/piracyreport.php\n",
      "\thttp://www.feedparser.org/\n",
      "\thttp://cjkpython.i18n.org/\n",
      "\thttp://chardet.feedparser.org/\n",
      "\thttp://dalchemy.com/opensource/unicodedoc/\n",
      "\thttp://dalchemy.com/opensource/unicodedoc/\n",
      "\thttp://groups.google.com/group/beautifulsoup/browse_thread/thread/69093cb0d3a3cf63\n",
      "\thttp://www.crummy.com/software/ScrapeNFeed\n",
      "\thttp://www.meangrape.com/htmlatex/\n",
      "\thttp://code.google.com/p/chmtopdf/\n",
      "\thttp://www.suttree.com/code/fotopic/\n",
      "\thttp://inigo.katxi.org/devel/misc/googlenews.py\n",
      "\thttp://potheads.ca/~cgm/weatheroffice/\n",
      "\thttp://www.cs.duke.edu/~pbh/newsclues.html\n",
      "\thttp://blinkflash.sourceforge.net/\n",
      "\thttp://www.voidspace.org.uk/python/programs.shtml#linky\n",
      "\thttp://www.postneo.com/2005/03/28/mobile-screen-scraping-with-beautifulsoup-and-python-for-series-60\n",
      "\thttp://sandeep.weblogs.us/archives/024473.html\n",
      "\thttp://jacobian.org/recipes/archives/2005/03/21/fixing-tracks-bought-from-allofmp3com/\n",
      "\thttp://www.pycs.net/\n",
      "\thttp://www.crummy.com/software/RubyfulSoup/\n",
      "\thttp://code.whytheluckystiff.net/hpricot/\n",
      "\thttp://effbot.org/zone/element-index.htm\n",
      "\thttp://home.ccil.org/~cowan/XML/tagsoup/\n",
      "\thttp://www.neilvandyke.org/htmlprag/\n",
      "\thttp://www.aaronsw.com/2002/xmltramp/\n",
      "\thttp://wwwsearch.sourceforge.net/pullparser/\n",
      "\thttp://aspn.activestate.com/ASPN/Cookbook/Python/Recipe/286269\n",
      "\thttp://zesty.ca/python/scrape.py\n",
      "\thttp://www.crummy.com/source/software/BeautifulSoup/documentation.bhtml\n",
      "\thttp://www.crummy.com/self/\n",
      "\thttp://www.crummy.com/self/contact.html\n",
      "\thttp://creativecommons.org/licenses/by-sa/2.0/\n",
      "\thttp://sphinx-doc.org/\n",
      "http://www.crummy.com/software/BeautifulSoup/bs4/doc/index.zh.html\n",
      "\thttp://www.crummy.com/software/BeautifulSoup/\n",
      "\thttp://www.crummy.com/software/BeautifulSoup/bs3/documentation.html\n",
      "\thttp://www.baidu.com\n",
      "\thttp://www.crummy.com/software/BeautifulSoup/bs3/documentation.html\n",
      "\thttp://www.crummy.com/software/BeautifulSoup/download/4.x/\n",
      "\thttp://lxml.de/\n",
      "\thttp://code.google.com/p/html5lib/\n",
      "\thttp://www.w3.org/TR/html5/syntax.html#syntax\n",
      "\thttp://wiki.Python.org/moin/PrintFails\n",
      "\thttp://lxml.de/\n",
      "\thttp://pypi.Python.org/pypi/cchardet/\n",
      "\thttp://www.crummy.com/software/BeautifulSoup/bs3/download/3.x/BeautifulSoup-3.2.0.tar.gz\n",
      "\thttp://www.crummy.com/software/BeautifulSoup/bs3/documentation.html\n",
      "\thttp://www.crummy.com/software/BeautifulSoup/bs3/documentation.zh.html\n",
      "\thttp://www.Python.org/dev/peps/pep-0008/\n",
      "\thttp://www.crummy.com/software/BeautifulSoup/bs3/documentation.zh.html\n",
      "\thttp://www.w3school.com.cn/css/css_selector_type.asp\n",
      "\thttp://sphinx-doc.org/\n",
      "http://www.crummy.com/software/BeautifulSoup/\n",
      "\thttp://lxml.de/\n",
      "\thttp://code.google.com/p/html5lib/\n",
      "\thttp://www.crummy.com/software/BeautifulSoup/bs3/documentation.html\n",
      "\thttp://www.nytimes.com/2007/10/25/arts/design/25vide.html\n",
      "\thttp://www.harrowell.org.uk/viktormap.html\n",
      "\thttp://svn.python.org/view/tracker/importer/\n",
      "\thttp://www2.ljworld.com/\n",
      "\thttp://www.b-list.org/weblog/2010/nov/02/news-done-broke/\n",
      "\thttp://esrl.noaa.gov/gsd/fab/\n",
      "\thttp://laps.noaa.gov/topograbber/\n",
      "\thttp://groups.google.com/group/beautifulsoup/\n",
      "\thttp://creativecommons.org/licenses/by-sa/2.0/\n",
      "\thttp://creativecommons.org/licenses/by-sa/2.0/\n",
      "\thttp://www.crummy.com/\n",
      "\thttp://www.crummy.com/software/\n",
      "\thttp://www.crummy.com/software/BeautifulSoup/\n",
      "http://www.crummy.com/software/RubyfulSoup/\n",
      "\thttp://code.whytheluckystiff.net/hpricot/\n",
      "\thttp://rubyforge.org/frs/?group_id=1033\n",
      "\thttp://creativecommons.org/licenses/by-sa/2.0/\n",
      "\thttp://creativecommons.org/licenses/by-sa/2.0/\n",
      "\thttp://www.crummy.com/\n",
      "\thttp://www.crummy.com/software/\n",
      "\thttp://www.crummy.com/software/RubyfulSoup/\n",
      "http://www.crummy.com/software/BeautifulSoup/#Download/\n",
      "\thttp://lxml.de/\n",
      "\thttp://code.google.com/p/html5lib/\n",
      "\thttp://www.crummy.com/software/BeautifulSoup/bs3/documentation.html\n",
      "\thttp://www.nytimes.com/2007/10/25/arts/design/25vide.html\n",
      "\thttp://www.harrowell.org.uk/viktormap.html\n",
      "\thttp://svn.python.org/view/tracker/importer/\n",
      "\thttp://www2.ljworld.com/\n",
      "\thttp://www.b-list.org/weblog/2010/nov/02/news-done-broke/\n",
      "\thttp://esrl.noaa.gov/gsd/fab/\n",
      "\thttp://laps.noaa.gov/topograbber/\n",
      "\thttp://groups.google.com/group/beautifulsoup/\n",
      "\thttp://creativecommons.org/licenses/by-sa/2.0/\n",
      "\thttp://creativecommons.org/licenses/by-sa/2.0/\n",
      "\thttp://www.crummy.com/\n",
      "\thttp://www.crummy.com/software/\n",
      "\thttp://www.crummy.com/software/BeautifulSoup/\n",
      "http://www.crummy.com/software/BeautifulSoup/CHANGELOG.html\n",
      "Link \"http://www.crummy.com/software/BeautifulSoup/CHANGELOG.html\" could not be reached.\n",
      "http://www.icc-ccs.org/prc/piracyreport.php\n",
      "\thttp://www.icc-ccs.org\n",
      "\thttp://iccwbo.org/\n",
      "http://www.feedparser.org/\n",
      "http://cjkpython.i18n.org/\n",
      "Link \"http://cjkpython.i18n.org/\" could not be reached.\n",
      "http://chardet.feedparser.org/\n",
      "Link \"http://chardet.feedparser.org/\" could not be reached.\n",
      "http://chardet.feedparser.org/\n",
      "Link \"http://chardet.feedparser.org/\" could not be reached.\n",
      "http://dalchemy.com/opensource/unicodedoc/\n",
      "Link \"http://dalchemy.com/opensource/unicodedoc/\" could not be reached.\n",
      "http://dalchemy.com/opensource/unicodedoc/\n",
      "Link \"http://dalchemy.com/opensource/unicodedoc/\" could not be reached.\n",
      "http://groups.google.com/group/beautifulsoup/browse_thread/thread/69093cb0d3a3cf63\n",
      "\thttp://www.google.ca/imghp?hl=en-GB&tab=gi\n",
      "\thttp://support.google.com/groups/bin/answer.py?answer=46601\n",
      "http://www.crummy.com/software/ScrapeNFeed\n",
      "\thttp://www.dalkescientific.com/Python/PyRSS2Gen.html\n",
      "\thttp://www.oreilly.com/catalog/new.html\n",
      "\thttp://creativecommons.org/licenses/by-sa/2.0/\n",
      "\thttp://creativecommons.org/licenses/by-sa/2.0/\n",
      "\thttp://www.crummy.com/\n",
      "\thttp://www.crummy.com/software/\n",
      "\thttp://www.crummy.com/software/ScrapeNFeed/\n",
      "http://www.meangrape.com/htmlatex/\n",
      "Link \"http://www.meangrape.com/htmlatex/\" could not be reached.\n",
      "http://code.google.com/p/chmtopdf/\n",
      "http://www.suttree.com/code/fotopic/\n",
      "http://inigo.katxi.org/devel/misc/googlenews.py\n",
      "Link \"http://inigo.katxi.org/devel/misc/googlenews.py\" could not be reached.\n",
      "http://potheads.ca/~cgm/weatheroffice/\n",
      "Link \"http://potheads.ca/~cgm/weatheroffice/\" could not be reached.\n",
      "http://www.cs.duke.edu/~pbh/newsclues.html\n",
      "Link \"http://www.cs.duke.edu/~pbh/newsclues.html\" could not be reached.\n",
      "http://blinkflash.sourceforge.net/\n",
      "\thttp://wwwsearch.sourceforge.net/ClientCookie/\n",
      "\thttp://wwwsearch.sourceforge.net/ClientForm/\n",
      "\thttp://www.crummy.com/software/BeautifulSoup/\n",
      "\thttp://prdownloads.sourceforge.net/blinkflash/blinkflash-1.3.tar.gz?download\n",
      "\thttp://www.winkflash.co.uk\n",
      "\thttp://lifesok.co.uk\n",
      "\thttp://sourceforge.net\n",
      "http://www.voidspace.org.uk/python/programs.shtml#linky\n",
      "\thttp://www.ironpythoninaction.com/\n",
      "\thttp://www.python.org\n",
      "\thttp://www.opensource.org/\n",
      "\thttp://code.google.com/p/movable-python\n",
      "\thttp://docutils.sourceforge.net\n",
      "\thttp://www.python.org\n",
      "\thttp://zephyrfalcon.org\n",
      "\thttp://www.voidspace.org.uk/index2.shtml\n",
      "\thttp://www.webfaction.com?affiliate=fuzzyman\n",
      "\thttp://www.ironpythoninaction.com/\n",
      "\thttp://www.ironpythoninaction.com/\n",
      "\thttp://www.ironpythoninaction.com/\n",
      "\thttp://twitter.com/voidspace\n",
      "\thttp://del.icio.us/voidspace\n",
      "\thttp://www.google.com/reader/shared/08745352163846617289\n",
      "\thttp://www.flickr.com/photos/mfoord/\n",
      "\thttp://www.amazon.com/Deals-Computers/b/?ie=UTF8&node=759498&tag=voidspace-20\n",
      "\thttp://www.webfaction.com/?affiliate=fuzzyman\n",
      "\thttp://creativecommons.org/licenses/by-sa/2.0/uk/\n",
      "\thttp://www.freecsstemplates.org/\n",
      "http://www.postneo.com/2005/03/28/mobile-screen-scraping-with-beautifulsoup-and-python-for-series-60\n",
      "\thttp://postneo.com\n",
      "\thttp://tinycast.in/\n",
      "\thttp://pinboard.in/u:mcroydon/\n",
      "\thttp://flickr.com/photos/postneo\n",
      "\thttp://twitter.com/mc/\n",
      "\thttp://postneo.com/2005/03/28/mobile-screen-scraping-with-beautifulsoup-and-python-for-series-60\n",
      "\thttp://postneo.com/author/site-admin\n",
      "\thttp://postneo.com/categories/mobile\n",
      "\thttp://postneo.com/categories/projects\n",
      "\thttp://postneo.com/categories/python\n",
      "\thttp://postneo.com/categories/web-services\n",
      "\thttp://postneo.com/2005/03/28/mobile-screen-scraping-with-beautifulsoup-and-python-for-series-60#comments\n",
      "\thttp://www.crummy.com/software/BeautifulSoup/\n",
      "\thttp://www.forum.nokia.com/main/0,,034-821,00.html\n",
      "\thttp://www.observer.com/2009/politics/carl-kruger-obstacle\n",
      "\thttp://www.docstoc.com/docs/48894454/Carl-Krugers-Russian-Secrets\n",
      "\thttp://jade.se\n",
      "\thttp://www.onlinepaydayloanscenter.com\n",
      "\thttp://blog.theglammygrammy.com/pracanieruchomocipozna/2011/02/16/nieruchomosci-poznan-praca/\n",
      "\thttp://gw2guides.blogspot.com/\n",
      "\thttp://www.gohobbies.com/item/KO-Propo/17004.html\n",
      "\thttp://www.wadeindustries.com/article/Baby-Shower-Invitation-Help-What-To-Write.html\n",
      "\thttp://www.wadeindustries.com/article/Baby-Shower-Invitation-Help-What-To-Write.html\n",
      "\thttp://www.prlog.org/11261550-phone-number-lookup-catch-cheater-quickly.html\n",
      "\thttp://www.hostingdomaincoupons.com/\n",
      "\thttp://cecs02.cecs.uci.edu/forum/index.php?action=profile;u=6242;sa=summary\n",
      "\thttp://www.rosedoddshoes.com/shop/hb-shoes/hb-ladies-shoes\n",
      "\thttp://www.visionimmo.com/\n",
      "\thttp://www.articlesbase.com/finance-articles/import-car-insurance-affordable-rates-regardless-of-what-kind-of-exotic-vehicle-3222952.html\n",
      "\thttp://www.posedefilms.fr/\n",
      "\thttp://celularcom2chips.net.br/\n",
      "\thttp://postneo.com/2015/07/26/my-podcasting-workflow\n",
      "\thttp://postneo.com/2014/01/05/and-were-back\n",
      "\thttp://postneo.com/2011/07/28/parsing-csv-data-in-scala-with-opencsv\n",
      "\thttp://postneo.com/2011/05/04/social-graph-analysis-using-elastic-mapreduce-and-pypy\n",
      "\thttp://postneo.com/2011/04/30/literate-diffing\n",
      "\thttp://postneo.com/2015/07\n",
      "\thttp://postneo.com/2014/01\n",
      "\thttp://postneo.com/2011/07\n",
      "\thttp://postneo.com/2011/05\n",
      "\thttp://postneo.com/2011/04\n",
      "\thttp://postneo.com/2011/03\n",
      "\thttp://postneo.com/2011/02\n",
      "\thttp://postneo.com/2009/02\n",
      "\thttp://postneo.com/2008/08\n",
      "\thttp://postneo.com/2008/06\n",
      "\thttp://postneo.com/2008/05\n",
      "\thttp://postneo.com/2008/03\n",
      "\thttp://postneo.com/2008/02\n",
      "\thttp://postneo.com/2008/01\n",
      "\thttp://postneo.com/2007/12\n",
      "\thttp://postneo.com/2007/11\n",
      "\thttp://postneo.com/2007/10\n",
      "\thttp://postneo.com/2007/09\n",
      "\thttp://postneo.com/2007/08\n",
      "\thttp://postneo.com/2007/07\n",
      "\thttp://postneo.com/2007/06\n",
      "\thttp://postneo.com/2007/05\n",
      "\thttp://postneo.com/2007/04\n",
      "\thttp://postneo.com/2007/03\n",
      "\thttp://postneo.com/2007/02\n",
      "\thttp://postneo.com/2007/01\n",
      "\thttp://postneo.com/2006/12\n",
      "\thttp://postneo.com/2006/10\n",
      "\thttp://postneo.com/2006/09\n",
      "\thttp://postneo.com/2006/08\n",
      "\thttp://postneo.com/2006/07\n",
      "\thttp://postneo.com/2006/06\n",
      "\thttp://postneo.com/2006/05\n",
      "\thttp://postneo.com/2006/04\n",
      "\thttp://postneo.com/2006/03\n",
      "\thttp://postneo.com/2006/02\n",
      "\thttp://postneo.com/2006/01\n",
      "\thttp://postneo.com/2005/11\n",
      "\thttp://postneo.com/2005/10\n",
      "\thttp://postneo.com/2005/09\n",
      "\thttp://postneo.com/2005/08\n",
      "\thttp://postneo.com/2005/07\n",
      "\thttp://postneo.com/2005/06\n",
      "\thttp://postneo.com/2005/05\n",
      "\thttp://postneo.com/2005/04\n",
      "\thttp://postneo.com/2005/03\n",
      "\thttp://postneo.com/2005/02\n",
      "\thttp://postneo.com/2005/01\n",
      "\thttp://postneo.com/2004/12\n",
      "\thttp://postneo.com/2004/08\n",
      "\thttp://postneo.com/2004/07\n",
      "\thttp://postneo.com/2004/06\n",
      "\thttp://postneo.com/2004/05\n",
      "\thttp://postneo.com/2004/04\n",
      "\thttp://postneo.com/2004/03\n",
      "\thttp://postneo.com/2004/02\n",
      "\thttp://postneo.com/2004/01\n",
      "\thttp://postneo.com/2003/12\n",
      "\thttp://postneo.com/2003/11\n",
      "\thttp://postneo.com/2003/10\n",
      "\thttp://postneo.com/2003/09\n",
      "\thttp://postneo.com/2003/08\n",
      "\thttp://postneo.com/2003/07\n",
      "\thttp://postneo.com/2003/06\n",
      "\thttp://postneo.com/2003/05\n",
      "\thttp://postneo.com/2003/04\n",
      "\thttp://postneo.com/2003/03\n",
      "\thttp://postneo.com/2003/02\n",
      "\thttp://postneo.com/2003/01\n",
      "\thttp://postneo.com/2002/12\n",
      "\thttp://postneo.com/2002/11\n",
      "\thttp://postneo.com/2002/10\n",
      "\thttp://postneo.com/2002/09\n",
      "\thttp://postneo.com/2002/08\n",
      "\thttp://postneo.com/2002/07\n",
      "\thttp://postneo.com/categories/net\n",
      "\thttp://postneo.com/categories/bsd\n",
      "\thttp://postneo.com/categories/apple\n",
      "\thttp://postneo.com/categories/python/django\n",
      "\thttp://postneo.com/categories/erlang\n",
      "\thttp://postneo.com/categories/java\n",
      "\thttp://postneo.com/categories/journalism\n",
      "\thttp://postneo.com/categories/linux\n",
      "\thttp://postneo.com/categories/mobile\n",
      "\thttp://postneo.com/categories/mysql\n",
      "\thttp://postneo.com/categories/open-source\n",
      "\thttp://postneo.com/categories/perl\n",
      "\thttp://postneo.com/categories/php\n",
      "\thttp://postneo.com/categories/projects\n",
      "\thttp://postneo.com/categories/python\n",
      "\thttp://postneo.com/categories/scala\n",
      "\thttp://postneo.com/categories/web-services\n",
      "\thttp://postneo.com/categories/weblogs\n",
      "\thttp://postneo.com/wp/wp-login.php?action=register\n",
      "\thttp://postneo.com/wp/wp-login.php\n",
      "\thttp://postneo.com/feed\n",
      "\thttp://postneo.com/comments/feed\n",
      "\thttp://postneo.com\n",
      "http://sandeep.weblogs.us/archives/024473.html\n",
      "Link \"http://sandeep.weblogs.us/archives/024473.html\" could not be reached.\n",
      "http://jacobian.org/recipes/archives/2005/03/21/fixing-tracks-bought-from-allofmp3com/\n",
      "Link \"http://jacobian.org/recipes/archives/2005/03/21/fixing-tracks-bought-from-allofmp3com/\" could not be reached.\n",
      "http://www.pycs.net/\n",
      "\thttp://www.myelin.co.nz/\n",
      "\thttp://www.myelin.co.nz/phil/email.php\n",
      "\thttp://www.pycs.net/notes/stories/2002/04/03/howToTellRadioToUseThisServer.html\n",
      "\thttp://www.myelin.co.nz/pycs/Radio808PyCS.exe\n",
      "\thttp://simon.bofh.ms/~louis/\n",
      "\thttp://www.myelin.co.nz/pycs/Radio808PyCS.sit\n",
      "\thttp://pyds.muensterland.org/stories/1.html\n",
      "\thttp://www.myelin.co.nz/bzero/\n",
      "\thttp://pyds.muensterland.org/\n",
      "\thttp://pyds.muensterland.org/stories/1.html\n",
      "\thttp://pyds.muensterland.org/stories/4.html\n",
      "\thttp://www.opensource.org/licenses/mit-license.php\n",
      "\thttp://www.python.org/\n",
      "\thttp://www.soapware.org/xmlStorageSystem\n",
      "\thttp://radio.userland.com/\n",
      "\thttp://pyds.muensterland.org/\n",
      "\thttp://www.myelin.co.nz/bzero/\n",
      "\thttp://www.myelin.co.nz/cgi-bin/wcswiki.pl?PythonCommunityServer\n",
      "\thttp://www.myelin.co.nz/cgi-bin/wcswiki.pl?PythonCommunityServerSetupHowto\n",
      "\thttp://www.pycs.net/\n",
      "\thttp://www.myelin.co.nz/post/\n",
      "\thttp://muensterland.org/\n",
      "\thttp://hugo.muensterland.org/\n",
      "\thttp://pyds.muensterland.org/\n",
      "\thttp://lowlife.jp/\n",
      "\thttp://lowlife.jp/yasusii/\n",
      "\thttp://topicexchange.com/t/python_community_server/\n",
      "\thttp://spe.pycs.net/\n",
      "\thttp://altis.pycs.net/\n",
      "\thttp://jmhodges.pycs.net/\n",
      "\thttp://www.myelin.co.nz/cgi-bin/wcswiki.pl?PythonCommunityServerSetupHowto\n",
      "\thttp://pycs.sourceforge.net/\n",
      "\thttp://www.myelin.co.nz/phil/email.php\n",
      "http://www.crummy.com/software/RubyfulSoup/\n",
      "\thttp://code.whytheluckystiff.net/hpricot/\n",
      "\thttp://rubyforge.org/frs/?group_id=1033\n",
      "\thttp://creativecommons.org/licenses/by-sa/2.0/\n",
      "\thttp://creativecommons.org/licenses/by-sa/2.0/\n",
      "\thttp://www.crummy.com/\n",
      "\thttp://www.crummy.com/software/\n",
      "\thttp://www.crummy.com/software/RubyfulSoup/\n",
      "http://code.whytheluckystiff.net/hpricot/\n",
      "Link \"http://code.whytheluckystiff.net/hpricot/\" could not be reached.\n",
      "http://effbot.org/zone/element-index.htm\n",
      "\thttp://codespeak.net/lxml/\n",
      "\thttp://www.dalkescientific.com/writings/diary/archive/2006/11/06/iterparse_filter.html\n",
      "\thttp://www.dalkescientific.com/writings/diary/archive/2006/08/22/pyprotocols_for_output_generation.html\n",
      "\thttp://faassen.n--tree.net/blog/view/weblog/2006/02/24/0\n",
      "\thttp://www.amk.ca/talks/2006-02-07/\n",
      "\thttp://article.gmane.org/gmane.comp.python.tutor/24986\n",
      "\thttp://reagle.org/joseph/blog/technology/python/elementtree-model\n",
      "\thttp://www.xml.com/pub/a/2003/02/12/py-xml.html\n",
      "\thttp://www-106.ibm.com/developerworks/library/x-matters28/\n",
      "\thttp://www.idealliance.org/papers/dx_xml03/papers/06-02-03/06-02-03.html\n",
      "\thttp://www.xml.com/pub/a/2004/06/30/py-xml.html\n",
      "\thttp://www.xml.com/pub/a/2004/08/11/py-xml.html\n",
      "\thttp://article.gmane.org/gmane.comp.python.announce/5996\n",
      "\thttp://www.plope.com/software/meld3\n",
      "\thttp://www.aminus.org/blogs/index.php/phunt/2006/01/27/templating_languages_and_yaptl\n",
      "\thttp://fepy.sourceforge.net/\n",
      "\thttp://www.tothink.com/python/ElementBuilder/\n",
      "\thttp://lagen.nu/\n",
      "\thttp://blog.tomtebo.org/misc/lagen_nu_is_now_public.html\n",
      "\thttp://ooopy.sourceforge.net/\n",
      "\thttp://codespeak.net/lxml/\n",
      "\thttp://xmlsoft.org\n",
      "\thttp://xmlsoft.org/XSLT/\n",
      "\thttp://bazaar-ng.org/index.html\n",
      "\thttp://linux.duke.edu/projects/yum/\n",
      "\thttp://pyscore.sf.net/\n",
      "\thttp://splice.sourceforge.net/kid/index.html\n",
      "\thttp://pdis.hiit.fi/pdis/download/\n",
      "\thttp://www.leuthe.homepage.t-online.de/minixsv/minixsv_overview.html\n",
      "\thttp://www.boost.org/libs/python/pyste/doc/introduction.html\n",
      "\thttp://www.djangoproject.com/\n",
      "\thttp://www.djangoproject.com/\n",
      "\thttp://www.webfaction.com/shared_hosting?affiliate=slab\n",
      "http://home.ccil.org/~cowan/XML/tagsoup/\n",
      "Link \"http://home.ccil.org/~cowan/XML/tagsoup/\" could not be reached.\n",
      "http://www.neilvandyke.org/htmlprag/\n",
      "Link \"http://www.neilvandyke.org/htmlprag/\" could not be reached.\n",
      "http://www.aaronsw.com/2002/xmltramp/\n",
      "\thttp://pypi.python.org/pypi/xmltramp/\n",
      "\thttp://rpmfind.net/linux/rpm2html/search.php?query=python-xmltramp\n",
      "\thttp://perlmonks.org/index.pl?node_id=257634\n",
      "\thttp://www.crummy.com/software/BeautifulSoup/\n",
      "\thttp://www.entrian.com/PyMeld/\n",
      "\thttp://diveintomark.org/archives/blinks/2003/12/\n",
      "\thttp://www.nelson.monkey.org/~nelson/weblog/tech/good/xmltramp.html\n",
      "\thttp://www.aaronsw.com/\n",
      "http://wwwsearch.sourceforge.net/pullparser/\n",
      "Link \"http://wwwsearch.sourceforge.net/pullparser/\" could not be reached.\n",
      "http://aspn.activestate.com/ASPN/Cookbook/Python/Recipe/286269\n",
      "http://zesty.ca/python/scrape.py\n",
      "http://creativecommons.org/licenses/by-sa/2.0/\n",
      "Link \"http://creativecommons.org/licenses/by-sa/2.0/\" could not be reached.\n",
      "http://creativecommons.org/licenses/by-sa/2.0/\n",
      "Link \"http://creativecommons.org/licenses/by-sa/2.0/\" could not be reached.\n",
      "http://www.crummy.com/\n",
      "\thttp://www.jdoqocy.com/click-7202034-11290546?url=http%3A%2F%2Fshop.oreilly.com%2Fproduct%2F0636920028468.do%3Fcmp%3Daf-code-books-video-product_cj_0636920028468_%25zp&cjsku=0636920028468\n",
      "\thttp://www.amazon.com/Thoughtcrime-Experiments-Leonard-Richardson/dp/1442157909\n",
      "\thttp://www.candlemarkandgleam.com/shop/constellation-games/\n",
      "\thttp://www.crummy.com/2020/10/03/0\n",
      "\thttp://www.crummy.com/2020/10/03/0#comments\n",
      "\thttp://www.crummy.com/2020/09/05/0\n",
      "\thttp://www.crummy.com/2020/08/25/0\n",
      "\thttp://www.crummy.com/2020/08/25/0#comments\n",
      "\thttp://www.crummy.com/2020/08/21/0\n",
      "\thttp://www.crummy.com/2020/08/21/0#comments\n",
      "\thttp://www.crummy.com/2020/08/14/0\n",
      "\thttp://www.crummy.com/2020/07/27/0\n",
      "\thttp://www.crummy.com/2020/07/27/0#comments\n",
      "\thttp://thoughtcrime.crummy.com/2009/BioBreak.html\n",
      "\thttp://strangehorizons.com/fiction/four-kinds-of-cargo/\n",
      "\thttp://www.crummy.com/2020/07/05/0\n",
      "\thttp://www.crummy.com/2020/05/31/0\n",
      "\thttp://www.crummy.com/2020/05/03/0\n",
      "\thttp://www.crummy.com/2020/04/19/0\n",
      "\thttp://www.crummy.com/2020/04/19/0#comments\n",
      "\thttp://www.crummy.com/2020/04/04/0\n",
      "\thttp://www.crummy.com/2020/03/09/0\n",
      "\thttp://www.crummy.com/2020/03/04/0\n",
      "\thttp://www.crummy.com/2020/02/01/0\n",
      "\thttp://www.crummy.com/2020/01/11/1\n",
      "\thttp://rodgersbookbarn.com/\n",
      "\thttp://www.crummy.com/2020/01/11/0\n",
      "\thttp://www.crummy.com/2020/01/10/0\n",
      "\thttp://www.crummy.com/2019/01/13/0\n",
      "\thttp://www.crummy.com/2019/08/09/0\n",
      "\thttp://www.crummy.com/2020/01/01/0\n",
      "\thttp://www.crummy.com/2019/12/30/0\n",
      "\thttp://www.crummy.com/2019/12/23/0\n",
      "\thttp://www.crummy.com/2019/12/20/0\n",
      "\thttp://www.crummy.com/2019/12/18/0\n",
      "\thttp://www.crummy.com/2019/12/18/0#comments\n",
      "\thttp://www.crummy.com/2019/12/08/0\n",
      "\thttp://www.movingimage.us/visit/calendar/2019/11/24/detail/sesame-street-lost-and-found\n",
      "\thttp://www.crummy.com/2019/11/18/0\n",
      "\thttp://www.crummy.com/2019/11/02/0\n",
      "\thttp://www.crummy.com/2019/11/02/0#comments\n",
      "\thttp://creativecommons.org/licenses/by-sa/2.0/\n",
      "\thttp://creativecommons.org/licenses/by-sa/2.0/\n",
      "\thttp://www.crummy.com/\n",
      "http://www.crummy.com/software/\n",
      "\thttp://www.robotfindskitten.org/\n",
      "\thttp://robotfindskitten.org/aw.cgi?main=ports.rfk#POSIX\n",
      "\thttp://launchpad.net/lazr.restful\n",
      "\thttp://launchpad.net/lazr.restfulclient\n",
      "\thttp://launchpad.net/wadllib\n",
      "\thttp://newsbruiser.tigris.org/unbranded-source/browse/*checkout*/newsbruiser/nb/lib/IWantOptions.py?rev=HEAD&content-type=text/plain\n",
      "\thttp://www.crummy.com/software/PyCon2003/Beyond%20The%20Config%20File.htm\n",
      "\thttp://newsbruiser.tigris.org/source/browse/~checkout~/newsbruiser/nb/lib/AsciiDammit.py\n",
      "\thttp://noodle.tigris.org/\n",
      "\thttp://itp.nyu.edu/~ap1607/nbo/\n",
      "\thttp://www.crummy.com/software/eater/\n",
      "\thttp://newsbruiser.tigris.org/source/browse/~checkout~/newsbruiser/nb/lib/transfusion.py\n",
      "\thttp://www.sixapart.com/movabletype/docs/mtimport.html\n",
      "\thttp://weblogs.com/api.html\n",
      "\thttp://newsbruiser.tigris.org/\n",
      "\thttp://wiki.github.com/why/hpricot\n",
      "\thttp://www.crummy.com/software/UltraGleeper/IntroSlides/img0.html\n",
      "\thttp://scoop.kuro5hin.org/\n",
      "\thttp://creativecommons.org/licenses/by-sa/2.0/\n",
      "\thttp://creativecommons.org/licenses/by-sa/2.0/\n",
      "\thttp://www.crummy.com/\n",
      "\thttp://www.crummy.com/software/\n",
      "http://www.crummy.com/software/BeautifulSoup/\n",
      "\thttp://lxml.de/\n",
      "\thttp://code.google.com/p/html5lib/\n",
      "\thttp://www.crummy.com/software/BeautifulSoup/bs3/documentation.html\n",
      "\thttp://www.nytimes.com/2007/10/25/arts/design/25vide.html\n",
      "\thttp://www.harrowell.org.uk/viktormap.html\n",
      "\thttp://svn.python.org/view/tracker/importer/\n",
      "\thttp://www2.ljworld.com/\n",
      "\thttp://www.b-list.org/weblog/2010/nov/02/news-done-broke/\n",
      "\thttp://esrl.noaa.gov/gsd/fab/\n",
      "\thttp://laps.noaa.gov/topograbber/\n",
      "\thttp://groups.google.com/group/beautifulsoup/\n",
      "\thttp://creativecommons.org/licenses/by-sa/2.0/\n",
      "\thttp://creativecommons.org/licenses/by-sa/2.0/\n",
      "\thttp://www.crummy.com/\n",
      "\thttp://www.crummy.com/software/\n",
      "\thttp://www.crummy.com/software/BeautifulSoup/\n",
      "http://www.crummy.com/software/BeautifulSoup/bs3/\n",
      "\thttp://www.awaretek.com/python/index.html\n",
      "\thttp://groups.google.com/group/beautifulsoup\n",
      "\thttp://www.candlemarkandgleam.com/store/delivery/constellation-games-serial/\n",
      "\thttp://constellation.crummy.com/Constellation%20Games%20excerpt.html\n",
      "\thttp://groups.google.com/group/beautifulsoup\n",
      "\thttp://www.crummy.com/software/BeautifulSoup/bs4/\n",
      "\thttp://www.crummy.com/software/BeautifulSoup/bs4/\n",
      "\thttp://creativecommons.org/licenses/by-sa/2.0/\n",
      "\thttp://creativecommons.org/licenses/by-sa/2.0/\n",
      "\thttp://www.crummy.com/\n",
      "\thttp://www.crummy.com/software/\n",
      "\thttp://www.crummy.com/software/BeautifulSoup/\n",
      "\thttp://www.crummy.com/software/BeautifulSoup/bs3/\n",
      "http://www.crummy.com/software/BeautifulSoup/bs3/documentation.html\n",
      "\thttp://www.crummy.com/\n",
      "\thttp://wiki.python.su/%D0%94%D0%BE%D0%BA%D1%83%D0%BC%D0%B5%D0%BD%D1%82%D0%B0%D1%86%D0%B8%D0%B8/BeautifulSoup\n",
      "\thttp://www.crummy.com/software/BeautifulSoup/bs4/\n",
      "\thttp://www.crummy.com/software/BeautifulSoup/bs4/doc/\n",
      "\thttp://www.crummy.com/software/BeautifulSoup/bs4/doc/\n",
      "\thttp://www.crummy.com/software/BeautifulSoup/bs4/doc/\n",
      "\thttp://kondou.com/BS4/\n",
      "\thttp://tdoc.info/beautifulsoup/\n",
      "\thttp://www.crummy.com/software/BeautifulSoup/bs4/doc/index.zh.html\n",
      "\thttp://www.crummy.com/software/BeautifulSoup/\n",
      "\thttp://www.crummy.com/software/RubyfulSoup/\n",
      "\thttp://www.crummy.com/software/BeautifulSoup/#Download/\n",
      "\thttp://www.crummy.com/software/BeautifulSoup/CHANGELOG.html\n",
      "\thttp://www.icc-ccs.org/prc/piracyreport.php\n",
      "\thttp://www.feedparser.org/\n",
      "\thttp://cjkpython.i18n.org/\n",
      "\thttp://chardet.feedparser.org/\n",
      "\thttp://chardet.feedparser.org/\n",
      "\thttp://dalchemy.com/opensource/unicodedoc/\n",
      "\thttp://dalchemy.com/opensource/unicodedoc/\n",
      "\thttp://groups.google.com/group/beautifulsoup/browse_thread/thread/69093cb0d3a3cf63\n",
      "\thttp://www.crummy.com/software/ScrapeNFeed\n",
      "\thttp://www.meangrape.com/htmlatex/\n",
      "\thttp://code.google.com/p/chmtopdf/\n",
      "\thttp://www.suttree.com/code/fotopic/\n",
      "\thttp://inigo.katxi.org/devel/misc/googlenews.py\n",
      "\thttp://potheads.ca/~cgm/weatheroffice/\n",
      "\thttp://www.cs.duke.edu/~pbh/newsclues.html\n",
      "\thttp://blinkflash.sourceforge.net/\n",
      "\thttp://www.voidspace.org.uk/python/programs.shtml#linky\n",
      "\thttp://www.postneo.com/2005/03/28/mobile-screen-scraping-with-beautifulsoup-and-python-for-series-60\n",
      "\thttp://sandeep.weblogs.us/archives/024473.html\n",
      "\thttp://jacobian.org/recipes/archives/2005/03/21/fixing-tracks-bought-from-allofmp3com/\n",
      "\thttp://www.pycs.net/\n",
      "\thttp://www.crummy.com/software/RubyfulSoup/\n",
      "\thttp://code.whytheluckystiff.net/hpricot/\n",
      "\thttp://effbot.org/zone/element-index.htm\n",
      "\thttp://home.ccil.org/~cowan/XML/tagsoup/\n",
      "\thttp://www.neilvandyke.org/htmlprag/\n",
      "\thttp://www.aaronsw.com/2002/xmltramp/\n",
      "\thttp://wwwsearch.sourceforge.net/pullparser/\n",
      "\thttp://aspn.activestate.com/ASPN/Cookbook/Python/Recipe/286269\n",
      "\thttp://zesty.ca/python/scrape.py\n",
      "\thttp://creativecommons.org/licenses/by-sa/2.0/\n",
      "\thttp://creativecommons.org/licenses/by-sa/2.0/\n",
      "\thttp://www.crummy.com/\n",
      "\thttp://www.crummy.com/software/\n",
      "\thttp://www.crummy.com/software/BeautifulSoup/\n",
      "\thttp://www.crummy.com/software/BeautifulSoup/bs3/\n",
      "\thttp://www.crummy.com/software/BeautifulSoup/bs3/documentation.html\n"
     ]
    }
   ],
   "source": [
    "webdir('https://www.crummy.com/software/BeautifulSoup/documentation.html',2,0)"
   ]
  },
  {
   "cell_type": "markdown",
   "metadata": {},
   "source": [
    "## Question 9"
   ]
  },
  {
   "cell_type": "code",
   "execution_count": 132,
   "metadata": {},
   "outputs": [],
   "source": [
    "%load_ext sql\n",
    "%sql sqlite://"
   ]
  },
  {
   "cell_type": "code",
   "execution_count": 133,
   "metadata": {},
   "outputs": [
    {
     "name": "stdout",
     "output_type": "stream",
     "text": [
      " * sqlite://\n",
      "Done.\n"
     ]
    },
    {
     "data": {
      "text/plain": [
       "[]"
      ]
     },
     "execution_count": 133,
     "metadata": {},
     "output_type": "execute_result"
    }
   ],
   "source": [
    "%%sql CREATE TABLE db (\n",
    "City Varcahr(50),\n",
    "Country Varchar(50),\n",
    "Season Varchar(50),\n",
    "[Temperature(C)] Float,\n",
    "[Rainfall(mm)] Float);"
   ]
  },
  {
   "cell_type": "code",
   "execution_count": 134,
   "metadata": {},
   "outputs": [
    {
     "name": "stdout",
     "output_type": "stream",
     "text": [
      " * sqlite://\n",
      "12 rows affected.\n"
     ]
    },
    {
     "data": {
      "text/plain": [
       "[]"
      ]
     },
     "execution_count": 134,
     "metadata": {},
     "output_type": "execute_result"
    }
   ],
   "source": [
    "%%sql INSERT INTO db VALUES\n",
    "('Mumbai', 'India', 'Winter', 24.8, 5.9),\n",
    "('Mumbai', 'India', 'Spring', 28.4, 16.2),\n",
    "('Mumbai', 'India', 'Summer', 27.9, 1549.4),\n",
    "('Mumbai', 'India', 'Fall', 27.6, 346.0),\n",
    "('London', 'United Kingdom', 'Winter', 4.2, 207.7),\n",
    "('London', 'United Kingdom', 'Spring', 8.3, 169.6),\n",
    "('London', 'United Kingdom', 'Summer', 15.7, 157.0),\n",
    "('London', 'United Kingdom', 'Fall', 10.4, 218.5),\n",
    "('Cairo', 'Egypt', 'Winter', 13.6, 16.6),\n",
    "('Cairo', 'Egypt', 'Spring', 20.7, 6.5),\n",
    "('Cairo', 'Egypt', 'Summer', 27.7, 0.1),\n",
    "('Cairo', 'Egypt', 'Fall', 22.2, 4.5);"
   ]
  },
  {
   "cell_type": "code",
   "execution_count": 24,
   "metadata": {},
   "outputs": [
    {
     "name": "stdout",
     "output_type": "stream",
     "text": [
      " * sqlite://\n",
      "Done.\n"
     ]
    },
    {
     "data": {
      "text/html": [
       "<table>\n",
       "    <tr>\n",
       "        <th>Temperature(C)</th>\n",
       "    </tr>\n",
       "    <tr>\n",
       "        <td>24.8</td>\n",
       "    </tr>\n",
       "    <tr>\n",
       "        <td>28.4</td>\n",
       "    </tr>\n",
       "    <tr>\n",
       "        <td>27.9</td>\n",
       "    </tr>\n",
       "    <tr>\n",
       "        <td>27.6</td>\n",
       "    </tr>\n",
       "    <tr>\n",
       "        <td>4.2</td>\n",
       "    </tr>\n",
       "    <tr>\n",
       "        <td>8.3</td>\n",
       "    </tr>\n",
       "    <tr>\n",
       "        <td>15.7</td>\n",
       "    </tr>\n",
       "    <tr>\n",
       "        <td>10.4</td>\n",
       "    </tr>\n",
       "    <tr>\n",
       "        <td>13.6</td>\n",
       "    </tr>\n",
       "    <tr>\n",
       "        <td>20.7</td>\n",
       "    </tr>\n",
       "    <tr>\n",
       "        <td>27.7</td>\n",
       "    </tr>\n",
       "    <tr>\n",
       "        <td>22.2</td>\n",
       "    </tr>\n",
       "</table>"
      ],
      "text/plain": [
       "[(24.8,),\n",
       " (28.4,),\n",
       " (27.9,),\n",
       " (27.6,),\n",
       " (4.2,),\n",
       " (8.3,),\n",
       " (15.7,),\n",
       " (10.4,),\n",
       " (13.6,),\n",
       " (20.7,),\n",
       " (27.7,),\n",
       " (22.2,)]"
      ]
     },
     "execution_count": 24,
     "metadata": {},
     "output_type": "execute_result"
    }
   ],
   "source": [
    "%sql SELECT [Temperature(C)] FROM db"
   ]
  },
  {
   "cell_type": "code",
   "execution_count": 35,
   "metadata": {},
   "outputs": [
    {
     "name": "stdout",
     "output_type": "stream",
     "text": [
      " * sqlite://\n",
      "Done.\n"
     ]
    },
    {
     "data": {
      "text/html": [
       "<table>\n",
       "    <tr>\n",
       "        <th>Country</th>\n",
       "    </tr>\n",
       "    <tr>\n",
       "        <td>India</td>\n",
       "    </tr>\n",
       "    <tr>\n",
       "        <td>United Kingdom</td>\n",
       "    </tr>\n",
       "    <tr>\n",
       "        <td>Egypt</td>\n",
       "    </tr>\n",
       "</table>"
      ],
      "text/plain": [
       "[('India',), ('United Kingdom',), ('Egypt',)]"
      ]
     },
     "execution_count": 35,
     "metadata": {},
     "output_type": "execute_result"
    }
   ],
   "source": [
    "%sql SELECT DISTINCT Country FROM db"
   ]
  },
  {
   "cell_type": "code",
   "execution_count": 34,
   "metadata": {},
   "outputs": [
    {
     "name": "stdout",
     "output_type": "stream",
     "text": [
      " * sqlite://\n",
      "Done.\n"
     ]
    },
    {
     "data": {
      "text/html": [
       "<table>\n",
       "    <tr>\n",
       "        <th>City</th>\n",
       "        <th>Country</th>\n",
       "        <th>Season</th>\n",
       "        <th>Temperature(C)</th>\n",
       "        <th>Rainfall(mm)</th>\n",
       "    </tr>\n",
       "    <tr>\n",
       "        <td>Mumbai</td>\n",
       "        <td>India</td>\n",
       "        <td>Fall</td>\n",
       "        <td>27.6</td>\n",
       "        <td>346.0</td>\n",
       "    </tr>\n",
       "    <tr>\n",
       "        <td>London</td>\n",
       "        <td>United Kingdom</td>\n",
       "        <td>Fall</td>\n",
       "        <td>10.4</td>\n",
       "        <td>218.5</td>\n",
       "    </tr>\n",
       "    <tr>\n",
       "        <td>Cairo</td>\n",
       "        <td>Egypt</td>\n",
       "        <td>Fall</td>\n",
       "        <td>22.2</td>\n",
       "        <td>4.5</td>\n",
       "    </tr>\n",
       "</table>"
      ],
      "text/plain": [
       "[('Mumbai', 'India', 'Fall', 27.6, 346.0),\n",
       " ('London', 'United Kingdom', 'Fall', 10.4, 218.5),\n",
       " ('Cairo', 'Egypt', 'Fall', 22.2, 4.5)]"
      ]
     },
     "execution_count": 34,
     "metadata": {},
     "output_type": "execute_result"
    }
   ],
   "source": [
    "%sql SELECT * FROM db WHERE Season='Fall'"
   ]
  },
  {
   "cell_type": "code",
   "execution_count": 141,
   "metadata": {},
   "outputs": [
    {
     "name": "stdout",
     "output_type": "stream",
     "text": [
      " * sqlite://\n",
      "Done.\n"
     ]
    },
    {
     "data": {
      "text/html": [
       "<table>\n",
       "    <tr>\n",
       "        <th>City</th>\n",
       "        <th>Country</th>\n",
       "        <th>Season</th>\n",
       "        <th>AVG([Rainfall(mm)])</th>\n",
       "    </tr>\n",
       "    <tr>\n",
       "        <td>Mumbai</td>\n",
       "        <td>India</td>\n",
       "        <td>Fall</td>\n",
       "        <td>346.0</td>\n",
       "    </tr>\n",
       "    <tr>\n",
       "        <td>London</td>\n",
       "        <td>United Kingdom</td>\n",
       "        <td>Winter</td>\n",
       "        <td>213.1</td>\n",
       "    </tr>\n",
       "</table>"
      ],
      "text/plain": [
       "[('Mumbai', 'India', 'Fall', 346.0),\n",
       " ('London', 'United Kingdom', 'Winter', 213.1)]"
      ]
     },
     "execution_count": 141,
     "metadata": {},
     "output_type": "execute_result"
    }
   ],
   "source": [
    "%%sql SELECT City, Country, Season, AVG([Rainfall(mm)]) \n",
    "FROM db  \n",
    "WHERE [Rainfall(mm)] BETWEEN 200 AND 400\n",
    "GROUP BY Country"
   ]
  },
  {
   "cell_type": "code",
   "execution_count": 61,
   "metadata": {},
   "outputs": [
    {
     "name": "stdout",
     "output_type": "stream",
     "text": [
      " * sqlite://\n",
      "Done.\n"
     ]
    },
    {
     "data": {
      "text/html": [
       "<table>\n",
       "    <tr>\n",
       "        <th>City</th>\n",
       "        <th>Country</th>\n",
       "        <th>AVG([Temperature(C)])</th>\n",
       "    </tr>\n",
       "    <tr>\n",
       "        <td>Cairo</td>\n",
       "        <td>Egypt</td>\n",
       "        <td>23.53333333333333</td>\n",
       "    </tr>\n",
       "    <tr>\n",
       "        <td>Mumbai</td>\n",
       "        <td>India</td>\n",
       "        <td>27.174999999999997</td>\n",
       "    </tr>\n",
       "</table>"
      ],
      "text/plain": [
       "[('Cairo', 'Egypt', 23.53333333333333),\n",
       " ('Mumbai', 'India', 27.174999999999997)]"
      ]
     },
     "execution_count": 61,
     "metadata": {},
     "output_type": "execute_result"
    }
   ],
   "source": [
    "%%sql SELECT City, Country, AVG([Temperature(C)])\n",
    "FROM db\n",
    "WHERE [Temperature(C)]>20\n",
    "GROUP BY Country\n",
    "ORDER BY AVG([Temperature(C)]) ASC"
   ]
  },
  {
   "cell_type": "code",
   "execution_count": 48,
   "metadata": {},
   "outputs": [
    {
     "name": "stdout",
     "output_type": "stream",
     "text": [
      " * sqlite://\n",
      "Done.\n"
     ]
    },
    {
     "data": {
      "text/html": [
       "<table>\n",
       "    <tr>\n",
       "        <th>SUM([Rainfall(mm)])</th>\n",
       "    </tr>\n",
       "    <tr>\n",
       "        <td>27.700000000000003</td>\n",
       "    </tr>\n",
       "</table>"
      ],
      "text/plain": [
       "[(27.700000000000003,)]"
      ]
     },
     "execution_count": 48,
     "metadata": {},
     "output_type": "execute_result"
    }
   ],
   "source": [
    "%sql SELECT SUM([Rainfall(mm)]) FROM db WHERE Country='Egypt'"
   ]
  },
  {
   "cell_type": "code",
   "execution_count": 41,
   "metadata": {},
   "outputs": [
    {
     "name": "stdout",
     "output_type": "stream",
     "text": [
      " * sqlite://\n",
      "Done.\n"
     ]
    },
    {
     "data": {
      "text/html": [
       "<table>\n",
       "    <tr>\n",
       "        <th>SUM([Rainfall(mm)])</th>\n",
       "    </tr>\n",
       "    <tr>\n",
       "        <td>230.2</td>\n",
       "    </tr>\n",
       "</table>"
      ],
      "text/plain": [
       "[(230.2,)]"
      ]
     },
     "execution_count": 41,
     "metadata": {},
     "output_type": "execute_result"
    }
   ],
   "source": [
    "%sql SELECT SUM([Rainfall(mm)]) FROM db WHERE Season = 'Winter'"
   ]
  },
  {
   "cell_type": "code",
   "execution_count": 42,
   "metadata": {},
   "outputs": [
    {
     "name": "stdout",
     "output_type": "stream",
     "text": [
      " * sqlite://\n",
      "Done.\n"
     ]
    },
    {
     "data": {
      "text/html": [
       "<table>\n",
       "    <tr>\n",
       "        <th>SUM([Rainfall(mm)])</th>\n",
       "    </tr>\n",
       "    <tr>\n",
       "        <td>192.29999999999998</td>\n",
       "    </tr>\n",
       "</table>"
      ],
      "text/plain": [
       "[(192.29999999999998,)]"
      ]
     },
     "execution_count": 42,
     "metadata": {},
     "output_type": "execute_result"
    }
   ],
   "source": [
    "%sql SELECT SUM([Rainfall(mm)]) FROM db WHERE Season = 'Spring'"
   ]
  },
  {
   "cell_type": "code",
   "execution_count": 43,
   "metadata": {},
   "outputs": [
    {
     "name": "stdout",
     "output_type": "stream",
     "text": [
      " * sqlite://\n",
      "Done.\n"
     ]
    },
    {
     "data": {
      "text/html": [
       "<table>\n",
       "    <tr>\n",
       "        <th>SUM([Rainfall(mm)])</th>\n",
       "    </tr>\n",
       "    <tr>\n",
       "        <td>1706.5</td>\n",
       "    </tr>\n",
       "</table>"
      ],
      "text/plain": [
       "[(1706.5,)]"
      ]
     },
     "execution_count": 43,
     "metadata": {},
     "output_type": "execute_result"
    }
   ],
   "source": [
    "%sql SELECT SUM([Rainfall(mm)]) FROM db WHERE Season = 'Summer'"
   ]
  },
  {
   "cell_type": "code",
   "execution_count": 44,
   "metadata": {},
   "outputs": [
    {
     "name": "stdout",
     "output_type": "stream",
     "text": [
      " * sqlite://\n",
      "Done.\n"
     ]
    },
    {
     "data": {
      "text/html": [
       "<table>\n",
       "    <tr>\n",
       "        <th>SUM([Rainfall(mm)])</th>\n",
       "    </tr>\n",
       "    <tr>\n",
       "        <td>569.0</td>\n",
       "    </tr>\n",
       "</table>"
      ],
      "text/plain": [
       "[(569.0,)]"
      ]
     },
     "execution_count": 44,
     "metadata": {},
     "output_type": "execute_result"
    }
   ],
   "source": [
    "%sql SELECT SUM([Rainfall(mm)]) FROM db WHERE Season = 'Fall'"
   ]
  },
  {
   "cell_type": "markdown",
   "metadata": {},
   "source": [
    "## Question 10"
   ]
  },
  {
   "cell_type": "code",
   "execution_count": 202,
   "metadata": {},
   "outputs": [],
   "source": [
    "words = ['The', 'quick', 'brown', 'fox', 'jumps', 'over', 'the', 'lazy', 'dog']"
   ]
  },
  {
   "cell_type": "code",
   "execution_count": 144,
   "metadata": {},
   "outputs": [
    {
     "data": {
      "text/plain": [
       "['THE', 'QUICK', 'BROWN', 'FOX', 'JUMPS', 'OVER', 'THE', 'LAZY', 'DOG']"
      ]
     },
     "execution_count": 144,
     "metadata": {},
     "output_type": "execute_result"
    }
   ],
   "source": [
    "[word.upper() for word in words]"
   ]
  },
  {
   "cell_type": "code",
   "execution_count": 145,
   "metadata": {},
   "outputs": [
    {
     "data": {
      "text/plain": [
       "['the', 'quick', 'brown', 'fox', 'jumps', 'over', 'the', 'lazy', 'dog']"
      ]
     },
     "execution_count": 145,
     "metadata": {},
     "output_type": "execute_result"
    }
   ],
   "source": [
    "[word.lower() for word in words]"
   ]
  },
  {
   "cell_type": "code",
   "execution_count": 146,
   "metadata": {},
   "outputs": [
    {
     "data": {
      "text/plain": [
       "[3, 5, 5, 3, 5, 4, 3, 4, 3]"
      ]
     },
     "execution_count": 146,
     "metadata": {},
     "output_type": "execute_result"
    }
   ],
   "source": [
    "[len(word) for word in words]"
   ]
  },
  {
   "cell_type": "code",
   "execution_count": 203,
   "metadata": {},
   "outputs": [
    {
     "name": "stdout",
     "output_type": "stream",
     "text": [
      "[['THE', 'the', 3], ['QUICK', 'quick', 5], ['BROWN', 'brown', 5], ['FOX', 'fox', 3], ['JUMPS', 'jumps', 5], ['OVER', 'over', 4], ['THE', 'the', 3], ['LAZY', 'lazy', 4], ['DOG', 'dog', 3]]\n"
     ]
    }
   ],
   "source": [
    "a = [[word.upper(), word.lower(), len(word)] for word in words]\n",
    "print(a)"
   ]
  },
  {
   "cell_type": "code",
   "execution_count": 148,
   "metadata": {},
   "outputs": [
    {
     "data": {
      "text/plain": [
       "['quick', 'brown', 'jumps', 'over', 'lazy']"
      ]
     },
     "execution_count": 148,
     "metadata": {},
     "output_type": "execute_result"
    }
   ],
   "source": [
    "[word for word in words if len(word)>=4]"
   ]
  }
 ],
 "metadata": {
  "kernelspec": {
   "display_name": "Python 3",
   "language": "python",
   "name": "python3"
  },
  "language_info": {
   "codemirror_mode": {
    "name": "ipython",
    "version": 3
   },
   "file_extension": ".py",
   "mimetype": "text/x-python",
   "name": "python",
   "nbconvert_exporter": "python",
   "pygments_lexer": "ipython3",
   "version": "3.8.3"
  }
 },
 "nbformat": 4,
 "nbformat_minor": 4
}
